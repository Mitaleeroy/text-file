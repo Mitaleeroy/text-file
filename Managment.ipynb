{
 "cells": [
  {
   "cell_type": "code",
   "execution_count": 4,
   "id": "0dc814cf",
   "metadata": {},
   "outputs": [],
   "source": [
    "fd = open('Reliance.txt','r')\n",
    "products = fd.read().split('\\n')\n",
    "\n",
    "fd.close()"
   ]
  },
  {
   "cell_type": "code",
   "execution_count": 11,
   "id": "8e89e73b",
   "metadata": {},
   "outputs": [
    {
     "name": "stdout",
     "output_type": "stream",
     "text": [
      "Enter your Name : jsygd\n",
      "Enter your phone no : 745684123103\n",
      "Enter your mail ID :kddgiu\n",
      "Enter the Product ID : 1\n",
      "Enter the Quantity :2\n",
      "---------------------------------------\n",
      "Product Name       : Amul Cream\n",
      "Product price      : 25\n",
      "Product Quantity   : 2\n",
      "---------------------------------------\n",
      "Total Amount       : 50\n"
     ]
    },
    {
     "ename": "IndexError",
     "evalue": "list index out of range",
     "output_type": "error",
     "traceback": [
      "\u001b[1;31m---------------------------------------------------------------------------\u001b[0m",
      "\u001b[1;31mIndexError\u001b[0m                                Traceback (most recent call last)",
      "\u001b[1;32m~\\AppData\\Local\\Temp\\ipykernel_34396\\337161659.py\u001b[0m in \u001b[0;36m<module>\u001b[1;34m\u001b[0m\n\u001b[0;32m     41\u001b[0m \u001b[1;33m\u001b[0m\u001b[0m\n\u001b[0;32m     42\u001b[0m \u001b[0mlst\u001b[0m\u001b[1;33m=\u001b[0m\u001b[1;33m[\u001b[0m\u001b[1;33m]\u001b[0m\u001b[1;33m\u001b[0m\u001b[1;33m\u001b[0m\u001b[0m\n\u001b[1;32m---> 43\u001b[1;33m \u001b[0mlst\u001b[0m\u001b[1;33m[\u001b[0m\u001b[1;33m-\u001b[0m\u001b[1;36m1\u001b[0m\u001b[1;33m]\u001b[0m\u001b[1;33m=\u001b[0m\u001b[0mlst\u001b[0m\u001b[1;33m[\u001b[0m\u001b[1;33m-\u001b[0m\u001b[1;36m1\u001b[0m\u001b[1;33m]\u001b[0m\u001b[1;33m[\u001b[0m\u001b[1;33m:\u001b[0m\u001b[1;33m-\u001b[0m\u001b[1;36m1\u001b[0m\u001b[1;33m]\u001b[0m\u001b[1;33m\u001b[0m\u001b[1;33m\u001b[0m\u001b[0m\n\u001b[0m\u001b[0;32m     44\u001b[0m \u001b[1;32mfor\u001b[0m \u001b[0mi\u001b[0m \u001b[1;32min\u001b[0m \u001b[0mupdated_product_list\u001b[0m\u001b[1;33m:\u001b[0m\u001b[1;33m\u001b[0m\u001b[1;33m\u001b[0m\u001b[0m\n\u001b[0;32m     45\u001b[0m     \u001b[0mprod\u001b[0m \u001b[1;33m=\u001b[0m \u001b[0mi\u001b[0m\u001b[1;33m[\u001b[0m\u001b[1;36m0\u001b[0m\u001b[1;33m]\u001b[0m \u001b[1;33m+\u001b[0m\u001b[1;34m','\u001b[0m\u001b[1;33m+\u001b[0m \u001b[0mi\u001b[0m\u001b[1;33m[\u001b[0m\u001b[1;36m1\u001b[0m\u001b[1;33m]\u001b[0m\u001b[1;33m+\u001b[0m\u001b[1;34m','\u001b[0m\u001b[1;33m+\u001b[0m\u001b[0mi\u001b[0m\u001b[1;33m[\u001b[0m\u001b[1;36m2\u001b[0m\u001b[1;33m]\u001b[0m\u001b[1;33m+\u001b[0m\u001b[1;34m','\u001b[0m\u001b[1;33m+\u001b[0m\u001b[0mi\u001b[0m\u001b[1;33m[\u001b[0m\u001b[1;36m3\u001b[0m\u001b[1;33m]\u001b[0m\u001b[1;33m\u001b[0m\u001b[1;33m\u001b[0m\u001b[0m\n",
      "\u001b[1;31mIndexError\u001b[0m: list index out of range"
     ]
    }
   ],
   "source": [
    "ui_name  = input(\"Enter your Name : \")\n",
    "ui_phone = input(\"Enter your phone no : \")\n",
    "ui_email = input(\"Enter your mail ID :\")\n",
    "ui_id    = input(\"Enter the Product ID : \")\n",
    "ui_quant = input(\"Enter the Quantity :\")\n",
    "updated_product_list = []\n",
    "for i in products:\n",
    "    prod_detail = i.split(',')\n",
    "    \n",
    "    \n",
    "    if(ui_id == prod_detail[0]):\n",
    "        if(int(ui_quant)<= int(prod_detail[3])):\n",
    "            print(\"---------------------------------------\")\n",
    "            print(\"Product Name       :\",prod_detail[1])\n",
    "            print(\"Product price      :\",prod_detail[2])\n",
    "            print(\"Product Quantity   :\",ui_quant)\n",
    "            print(\"---------------------------------------\")\n",
    "            print(\"Total Amount       :\",int(ui_quant) * int(prod_detail[2]))\n",
    "            \n",
    "            prod_detail[3] = str(int(prod_detail[3])-int(ui_quant))\n",
    "            fd = open('sales.txt','a')\n",
    "            sales_details = ui_name+', '+ui_phone +', '+ ui_email +', '+ui_id+', '+ui_quant +', '+ str(int(ui_quant) * int(prod_detail[2]))+'\\n'\n",
    "            fd.write(sales_details)\n",
    "            fd.close()\n",
    "        else:\n",
    "            print(\"We have \",prod_detail[3],\"quantity.\")\n",
    "            print(\"Would you like to purchase .\")\n",
    "            ch = input(\"Press Y/N\")\n",
    "            \n",
    "            if (ch == 'y'or ch=='Y'):\n",
    "                print(\"---------------------------------------\")\n",
    "                print(\"Product Name       :\",prod_detail[1])\n",
    "                print(\"Product price      :\",prod_detail[2])\n",
    "                print(\"Product Quantity   :\",ui_quant)\n",
    "                print(\"---------------------------------------\")\n",
    "                print(\"Total Amount       :\",int(ui_quant) * int(prd_detail[2]))\n",
    "                \n",
    "            prod_detail[3]='0'\n",
    "            \n",
    "    updated_product_list.append(prod_detail)\n",
    "    \n",
    "lst=[]\n",
    "\n",
    "for i in updated_product_list:\n",
    "    prod = i[0] +','+ i[1]+','+i[2]+','+i[3]\n",
    "    prod[-1]=prod[-1][:-1]\n",
    "    lst.append(prod)\n",
    "\n",
    "\n",
    "\n",
    "fd = open('Reliance.txt','w')\n",
    "fd.close()                \n",
    "            \n",
    "            \n",
    "print(\"------Inventory updated-------\")           \n",
    "            \n",
    "            \n",
    "    "
   ]
  },
  {
   "cell_type": "code",
   "execution_count": null,
   "id": "d35c4cb4",
   "metadata": {},
   "outputs": [],
   "source": []
  }
 ],
 "metadata": {
  "kernelspec": {
   "display_name": "Python 3 (ipykernel)",
   "language": "python",
   "name": "python3"
  },
  "language_info": {
   "codemirror_mode": {
    "name": "ipython",
    "version": 3
   },
   "file_extension": ".py",
   "mimetype": "text/x-python",
   "name": "python",
   "nbconvert_exporter": "python",
   "pygments_lexer": "ipython3",
   "version": "3.9.13"
  }
 },
 "nbformat": 4,
 "nbformat_minor": 5
}
